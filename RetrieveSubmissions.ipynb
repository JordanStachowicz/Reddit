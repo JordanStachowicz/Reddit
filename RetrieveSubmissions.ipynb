{
 "cells": [
  {
   "cell_type": "code",
   "execution_count": 15,
   "metadata": {
    "ExecuteTime": {
     "end_time": "2020-02-29T18:50:20.438501Z",
     "start_time": "2020-02-29T18:50:20.407258Z"
    }
   },
   "outputs": [],
   "source": [
    "import pandas as pd\n",
    "import requests\n",
    "import datetime\n",
    "import logging\n",
    "import boto3\n",
    "from botocore.exceptions import ClientError\n",
    "from bs4 import BeautifulSoup"
   ]
  },
  {
   "cell_type": "code",
   "execution_count": 3,
   "metadata": {
    "ExecuteTime": {
     "end_time": "2020-02-29T18:35:45.465760Z",
     "start_time": "2020-02-29T18:35:45.434513Z"
    }
   },
   "outputs": [],
   "source": [
    "def create_bucket(bucket_name, region=None):\n",
    "    \n",
    "    \"\"\"Create an S3 bucket\n",
    "    param bucket_name: Bucket to create\n",
    "    return: True if bucket created, else False\n",
    "    \"\"\"\n",
    "    \n",
    "    try:\n",
    "        if region is None:\n",
    "            s3_client = boto3.client('s3')\n",
    "            s3_client.create_bucket(Bucket=bucket_name)\n",
    "        else:\n",
    "            s3_client = boto3.client('s3', region_name=region)\n",
    "            location = {'LocationConstraint': region}\n",
    "            s3_client.create_bucket(Bucket=bucket_name,\n",
    "                                    CreateBucketConfiguration=location)\n",
    "    except ClientError as e:\n",
    "        logging.error(e)\n",
    "        return False\n",
    "    return True"
   ]
  },
  {
   "cell_type": "code",
   "execution_count": 94,
   "metadata": {
    "ExecuteTime": {
     "end_time": "2020-02-29T19:57:22.501149Z",
     "start_time": "2020-02-29T19:57:22.469970Z"
    }
   },
   "outputs": [],
   "source": [
    "def date_interval_list(start_date, end_date, interval):\n",
    "\n",
    "    \"\"\"give a start and end date, and return a list of all dates in between the range\n",
    "       seperated by days specified in the interval parameter e.g. \n",
    "       date_interval_list(20-01-01, 20-02-01, 5) will give..\n",
    "       [20-01-01,20-01-06,20-01-11...20-02-01]\n",
    "    \"\"\"\n",
    "    \n",
    "    start_date = str(start_date)\n",
    "    end_date = str(end_date)\n",
    "    end_datetime = datetime.datetime.strptime(str(end_date),\"%y-%m-%d\") - \\\n",
    "        datetime.timedelta(days=interval)\n",
    "    x = datetime.datetime.strptime(str(start_date),\"%y-%m-%d\")\n",
    "    date_list = []\n",
    "    date_list.append(str(x.date()))\n",
    "    while x <= end_datetime:\n",
    "        plus_5_days = (x + datetime.timedelta(days=int(interval)))\n",
    "        date_list.append(str(plus_5_days.date()))\n",
    "        x = plus_5_days\n",
    "        \n",
    "    return date_list"
   ]
  },
  {
   "cell_type": "code",
   "execution_count": 5,
   "metadata": {
    "ExecuteTime": {
     "end_time": "2020-02-29T18:35:52.981147Z",
     "start_time": "2020-02-29T18:35:52.949897Z"
    }
   },
   "outputs": [],
   "source": [
    "def push_shift_submissions(subreddit, start, end, limit):\n",
    "    \n",
    "    \"\"\"Scrape subreddit submissions\n",
    "    Parameters:\n",
    "    # subreddit - (string) subreddit name which you are looking for submissions\n",
    "    # start/end - (string) start and end date as timestamp or 'yyyy-mm-dd' \n",
    "    # limit     - (string) maximum number of submissions to be returned\n",
    "    \"\"\"\n",
    "    \n",
    "    # create url using parameters given\n",
    "    url = 'https://api.pushshift.io/reddit/submission/search/?subreddit=' + str(subreddit) + \\\n",
    "    '&after=' + str(start) + '&before=' + str(end) + '&limit=' + str(limit)\n",
    "    print(url)\n",
    "    \n",
    "    # on failure retry 5 times\n",
    "    RetryCount = 0\n",
    "    while RetryCount < 5:\n",
    "        \n",
    "        try:\n",
    "            r = requests.get(url)\n",
    "            assert r.status_code == 200\n",
    "            # if response 200 is given return data as json format\n",
    "            data = r.json()\n",
    "            print('status code = ' + str(r.status_code),\n",
    "                  '\\nrequest successful.. list of dict objects returned', '\\n' + \\\n",
    "                  'total submissions retrieved: ' + str(len(data['data'])))\n",
    "            return data['data']\n",
    "        \n",
    "        except:\n",
    "            RetryCount = RetryCount + 1\n",
    "            print('status code = ' + str(r.status_code) + \\\n",
    "                  ', failed to retrieve data, number of retries attempted: ' + str(RetryCount))\n",
    "    "
   ]
  },
  {
   "cell_type": "code",
   "execution_count": 6,
   "metadata": {
    "ExecuteTime": {
     "end_time": "2020-02-29T18:35:57.668500Z",
     "start_time": "2020-02-29T18:35:56.074800Z"
    },
    "scrolled": true
   },
   "outputs": [
    {
     "name": "stdout",
     "output_type": "stream",
     "text": [
      "https://api.pushshift.io/reddit/submission/search/?subreddit=RoastMe&after=2020-02-28&before=2020-02-29&limit=1000\n",
      "status code = 200 \n",
      "request successful.. list of dict objects returned \n",
      "total submissions retrieved: 225\n"
     ]
    }
   ],
   "source": [
    "data = push_shift_submissions('RoastMe', '2020-02-28', str(datetime.date.today()), '1000')"
   ]
  },
  {
   "cell_type": "code",
   "execution_count": 70,
   "metadata": {
    "ExecuteTime": {
     "end_time": "2020-02-29T19:20:30.561225Z",
     "start_time": "2020-02-29T19:20:28.764482Z"
    }
   },
   "outputs": [
    {
     "data": {
      "text/plain": [
       "<Response [200]>"
      ]
     },
     "execution_count": 70,
     "metadata": {},
     "output_type": "execute_result"
    }
   ],
   "source": [
    "#use id: value returned from submission json \n",
    "# use this id as link_id parameter in comments api url\n",
    "r2 = requests.get('https://api.pushshift.io/reddit/comment/search/?link_id=falv9w&limit=1000')\n",
    "\n",
    "comment_list = []\n",
    "for i in r2.json()['data']:\n",
    "    comment_list.append(i['body'])"
   ]
  },
  {
   "cell_type": "code",
   "execution_count": 95,
   "metadata": {
    "ExecuteTime": {
     "end_time": "2020-02-29T19:57:25.955189Z",
     "start_time": "2020-02-29T19:57:25.923944Z"
    }
   },
   "outputs": [
    {
     "data": {
      "text/plain": [
       "['2020-01-01', '2020-01-03', '2020-01-05', '2020-01-07', '2020-01-09']"
      ]
     },
     "execution_count": 95,
     "metadata": {},
     "output_type": "execute_result"
    }
   ],
   "source": [
    "date_interval_list('20-01-01','20-01-10',2)"
   ]
  }
 ],
 "metadata": {
  "kernelspec": {
   "display_name": "Python 3",
   "language": "python",
   "name": "python3"
  },
  "language_info": {
   "codemirror_mode": {
    "name": "ipython",
    "version": 3
   },
   "file_extension": ".py",
   "mimetype": "text/x-python",
   "name": "python",
   "nbconvert_exporter": "python",
   "pygments_lexer": "ipython3",
   "version": "3.7.1"
  },
  "varInspector": {
   "cols": {
    "lenName": 16,
    "lenType": 16,
    "lenVar": 40
   },
   "kernels_config": {
    "python": {
     "delete_cmd_postfix": "",
     "delete_cmd_prefix": "del ",
     "library": "var_list.py",
     "varRefreshCmd": "print(var_dic_list())"
    },
    "r": {
     "delete_cmd_postfix": ") ",
     "delete_cmd_prefix": "rm(",
     "library": "var_list.r",
     "varRefreshCmd": "cat(var_dic_list()) "
    }
   },
   "types_to_exclude": [
    "module",
    "function",
    "builtin_function_or_method",
    "instance",
    "_Feature"
   ],
   "window_display": false
  }
 },
 "nbformat": 4,
 "nbformat_minor": 2
}
