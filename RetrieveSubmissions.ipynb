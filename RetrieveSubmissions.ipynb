{
 "cells": [
  {
   "cell_type": "code",
   "execution_count": 59,
   "metadata": {
    "ExecuteTime": {
     "end_time": "2020-02-29T14:37:51.167441Z",
     "start_time": "2020-02-29T14:37:51.151453Z"
    }
   },
   "outputs": [],
   "source": [
    "import pandas as pd\n",
    "import requests\n",
    "import datetime\n",
    "import logging\n",
    "import boto3\n",
    "from botocore.exceptions import ClientError"
   ]
  },
  {
   "cell_type": "code",
   "execution_count": 24,
   "metadata": {
    "ExecuteTime": {
     "end_time": "2020-02-29T14:05:42.393146Z",
     "start_time": "2020-02-29T14:05:42.369158Z"
    }
   },
   "outputs": [],
   "source": [
    "def create_bucket(bucket_name, region=None):\n",
    "    \n",
    "    \"\"\"Create an S3 bucket\n",
    "    param bucket_name: Bucket to create\n",
    "    return: True if bucket created, else False\n",
    "    \"\"\"\n",
    "    \n",
    "    try:\n",
    "        if region is None:\n",
    "            s3_client = boto3.client('s3')\n",
    "            s3_client.create_bucket(Bucket=bucket_name)\n",
    "        else:\n",
    "            s3_client = boto3.client('s3', region_name=region)\n",
    "            location = {'LocationConstraint': region}\n",
    "            s3_client.create_bucket(Bucket=bucket_name,\n",
    "                                    CreateBucketConfiguration=location)\n",
    "    except ClientError as e:\n",
    "        logging.error(e)\n",
    "        return False\n",
    "    return True"
   ]
  },
  {
   "cell_type": "code",
   "execution_count": 60,
   "metadata": {
    "ExecuteTime": {
     "end_time": "2020-02-29T14:37:55.156333Z",
     "start_time": "2020-02-29T14:37:55.128344Z"
    }
   },
   "outputs": [],
   "source": [
    "def push_shift_submissions(subreddit, start, end, limit):\n",
    "    \n",
    "    \"\"\"Scrape subreddit submissions\n",
    "    Parameters:\n",
    "    # subreddit - (string) subreddit name which you are looking for submissions\n",
    "    # start/end - (string) start and end date as timestamp or 'yyyy-mm-dd' \n",
    "    # limit     - (string) maximum number of submissions to be returned\n",
    "    \"\"\"\n",
    "    \n",
    "    # create url using parameters given\n",
    "    url = 'https://api.pushshift.io/reddit/submission/search/?subreddit=' + str(subreddit) + \\\n",
    "    '&after=' + str(start) + '&before=' + str(end) + '&limit=' + str(limit)\n",
    "    print(url)\n",
    "    \n",
    "    # on failure retry 5 times\n",
    "    RetryCount = 0\n",
    "    while RetryCount < 5:\n",
    "        \n",
    "        try:\n",
    "            r = requests.get(url)\n",
    "            assert r.status_code == 200\n",
    "            # if response 200 is given return data as json format\n",
    "            data = r.json()\n",
    "            print('status code = ' + str(r.status_code),\n",
    "                  '\\nrequest successful.. list of dict objects returned', '\\n' + \\\n",
    "                  'total submissions retrieved: ' + str(len(data['data'])))\n",
    "            return data['data']\n",
    "        \n",
    "        except:\n",
    "            RetryCount = RetryCount + 1\n",
    "            print('status code = ' + str(r.status_code) + \\\n",
    "                  ', failed to retrieve data, number of retries attempted: ' + str(RetryCount))\n",
    "    "
   ]
  },
  {
   "cell_type": "code",
   "execution_count": 155,
   "metadata": {
    "ExecuteTime": {
     "end_time": "2020-02-29T17:08:10.050662Z",
     "start_time": "2020-02-29T17:08:06.822277Z"
    },
    "scrolled": true
   },
   "outputs": [
    {
     "name": "stdout",
     "output_type": "stream",
     "text": [
      "https://api.pushshift.io/reddit/submission/search/?subreddit=RoastMe&after=2020-02-28&before=2020-02-29&limit=1000\n",
      "status code = 200 \n",
      "request successful.. list of dict objects returned \n",
      "total submissions retrieved: 225\n"
     ]
    }
   ],
   "source": [
    "data = push_shift_submissions('RoastMe', '2020-02-28', str(datetime.date.today()), '1000')"
   ]
  },
  {
   "cell_type": "code",
   "execution_count": 159,
   "metadata": {
    "ExecuteTime": {
     "end_time": "2020-02-29T17:22:53.261015Z",
     "start_time": "2020-02-29T17:22:53.240047Z"
    }
   },
   "outputs": [],
   "source": [
    "def date_interval_list(start_date, end_date, interval):\n",
    "\n",
    "    \"\"\"give a start and end date, and create a list of all dates in between the range\n",
    "       seperated by days specified in the interval parameter\n",
    "       e.g. date_interval_list(20-01-01, 20-02-01, 5) will give [20-01-01,20-01-06,20-01-11...20-02-01]\n",
    "    \"\"\"\n",
    "    \n",
    "    start_date = str(start_date)\n",
    "    end_date = str(end_date)\n",
    "    end_datetime = datetime.datetime.strptime(str(end_date),\"%y-%m-%d\") - datetime.timedelta(days=5)\n",
    "    x = datetime.datetime.strptime(str(start_date),\"%y-%m-%d\")\n",
    "    date_list = []\n",
    "\n",
    "    while x <= end_datetime:\n",
    "        plus_5_days = (x + datetime.timedelta(days=int(interval)))\n",
    "        date_list.append(str(plus_5_days.date()))\n",
    "        x = plus_5_days\n",
    "    \n",
    "    return date_list"
   ]
  },
  {
   "cell_type": "code",
   "execution_count": 160,
   "metadata": {
    "ExecuteTime": {
     "end_time": "2020-02-29T17:22:54.249737Z",
     "start_time": "2020-02-29T17:22:54.236755Z"
    }
   },
   "outputs": [
    {
     "data": {
      "text/plain": [
       "['2020-01-06',\n",
       " '2020-01-11',\n",
       " '2020-01-16',\n",
       " '2020-01-21',\n",
       " '2020-01-26',\n",
       " '2020-01-31']"
      ]
     },
     "execution_count": 160,
     "metadata": {},
     "output_type": "execute_result"
    }
   ],
   "source": [
    "date_interval_list('20-01-01','20-02-01',5)"
   ]
  },
  {
   "cell_type": "code",
   "execution_count": null,
   "metadata": {
    "ExecuteTime": {
     "end_time": "2020-02-28T20:33:57.884933Z",
     "start_time": "2020-02-28T20:33:56.923060Z"
    }
   },
   "outputs": [],
   "source": [
    "# create bucket for each submission with the structure:\n",
    "#\n",
    "#    Submission ID bucket ---\n",
    "#              picture folder  ---\n",
    "#              comments folder ---\n",
    "\n"
   ]
  }
 ],
 "metadata": {
  "kernelspec": {
   "display_name": "Python 3",
   "language": "python",
   "name": "python3"
  },
  "language_info": {
   "codemirror_mode": {
    "name": "ipython",
    "version": 3
   },
   "file_extension": ".py",
   "mimetype": "text/x-python",
   "name": "python",
   "nbconvert_exporter": "python",
   "pygments_lexer": "ipython3",
   "version": "3.7.1"
  },
  "varInspector": {
   "cols": {
    "lenName": 16,
    "lenType": 16,
    "lenVar": 40
   },
   "kernels_config": {
    "python": {
     "delete_cmd_postfix": "",
     "delete_cmd_prefix": "del ",
     "library": "var_list.py",
     "varRefreshCmd": "print(var_dic_list())"
    },
    "r": {
     "delete_cmd_postfix": ") ",
     "delete_cmd_prefix": "rm(",
     "library": "var_list.r",
     "varRefreshCmd": "cat(var_dic_list()) "
    }
   },
   "types_to_exclude": [
    "module",
    "function",
    "builtin_function_or_method",
    "instance",
    "_Feature"
   ],
   "window_display": false
  }
 },
 "nbformat": 4,
 "nbformat_minor": 2
}
